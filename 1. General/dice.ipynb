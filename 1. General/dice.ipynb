{
 "cells": [
  {
   "cell_type": "code",
   "execution_count": null,
   "metadata": {},
   "outputs": [],
   "source": [
    "## Numerical Probability Theory\n",
    "# In this script we are seeking to find the probability that the sum of the\n",
    "# faces of n dice equals m. Where n and m are particularly large.\n"
   ]
  },
  {
   "cell_type": "code",
   "execution_count": 1,
   "metadata": {},
   "outputs": [],
   "source": [
    "import numpy as np"
   ]
  },
  {
   "cell_type": "code",
   "execution_count": null,
   "metadata": {},
   "outputs": [],
   "source": [
    "# Number of dice and desired sum\n",
    "n = 100  # Number of dice\n",
    "m = 340  # Target sum"
   ]
  },
  {
   "cell_type": "code",
   "execution_count": 4,
   "metadata": {},
   "outputs": [
    {
     "name": "stdout",
     "output_type": "stream",
     "text": [
      "Probability of getting 340 from 100 rolls (Monte Carlo): 0.01977200\n"
     ]
    }
   ],
   "source": [
    "# --- Monte Carlo Simulation ---\n",
    "# This method simulates the rolling of n dice multiple times and checks how often the sum m occurs.\n",
    "\n",
    "ntrials = 10**6  # Number of simulations\n",
    "MC_dice = np.zeros(ntrials)  # Initialize array to store the sum of dice rolls\n",
    "\n",
    "# Perform trials\n",
    "for k in range(ntrials):\n",
    "    rolls = np.random.randint(1, 7, n)  # Simulate rolling n dice\n",
    "    MC_dice[k] = np.sum(rolls)  # Sum the results of the dice rolls\n",
    "\n",
    "# Calculate the probability\n",
    "MC_prob = np.sum(MC_dice == m) / ntrials\n",
    "print(f'Probability of getting {m} from {n} rolls (Monte Carlo): {MC_prob:.8f}')\n"
   ]
  },
  {
   "cell_type": "code",
   "execution_count": 3,
   "metadata": {},
   "outputs": [
    {
     "name": "stdout",
     "output_type": "stream",
     "text": [
      "Probability of getting 340 from 100 rolls (Trapezoidal Integration): 0.01966850\n"
     ]
    }
   ],
   "source": [
    "# --- Trapezoidal Integration ---\n",
    "# This method uses the characteristic function of the dice roll and integrates over a range to find the probability.\n",
    "\n",
    "# xi grid for integration\n",
    "xi = np.linspace(-np.pi, np.pi, 201)\n",
    "\n",
    "# Characteristic function for a fair die\n",
    "phi_xi = (np.exp(1j * xi) + np.exp(2j * xi) + np.exp(3j * xi) + np.exp(4j * xi) + np.exp(5j * xi) + np.exp(6j * xi))**n\n",
    "\n",
    "# Function to integrate\n",
    "Y = np.exp(-1j * m * xi) * phi_xi\n",
    "\n",
    "# Trapezoidal integration\n",
    "trap_prob = (1 / 6**n) * (1 / (2 * np.pi)) * np.trapz(Y, xi)\n",
    "\n",
    "print(f'Probability of getting {m} from {n} rolls (Trapezoidal Integration): {trap_prob.real:.8f}')"
   ]
  }
 ],
 "metadata": {
  "kernelspec": {
   "display_name": ".venv",
   "language": "python",
   "name": "python3"
  },
  "language_info": {
   "codemirror_mode": {
    "name": "ipython",
    "version": 3
   },
   "file_extension": ".py",
   "mimetype": "text/x-python",
   "name": "python",
   "nbconvert_exporter": "python",
   "pygments_lexer": "ipython3",
   "version": "3.9.6"
  },
  "orig_nbformat": 4
 },
 "nbformat": 4,
 "nbformat_minor": 2
}
