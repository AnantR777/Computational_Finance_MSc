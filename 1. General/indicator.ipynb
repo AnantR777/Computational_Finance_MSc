{
 "cells": [
  {
   "cell_type": "markdown",
   "metadata": {},
   "source": [
    "# Indicator"
   ]
  },
  {
   "cell_type": "code",
   "execution_count": null,
   "metadata": {},
   "outputs": [],
   "source": [
    "import numpy as np\n",
    "import matplotlib.pyplot as plt\n",
    "\n",
    "def indicator(a, N, dx=1):\n",
    "    \"\"\"\n",
    "    Python function that behaves like the indicator function.\n",
    "\n",
    "    Parameters:\n",
    "    a : float\n",
    "        The range of the indicator function (the function will be 1 in [-a, a]).\n",
    "    N : int\n",
    "        The length of the vector required.\n",
    "    dx : float, optional\n",
    "        The step size of the vector, if a grid is being used. Default is 1.\n",
    "\n",
    "    Returns:\n",
    "    numpy.ndarray\n",
    "        The indicator vector.\n",
    "    \"\"\"\n",
    "    # Symmetric grid definition\n",
    "    x = np.arange(-N/2, N/2) * dx\n",
    "\n",
    "    # Indicator vector calculation\n",
    "    v = np.where((x >= -a) & (x <= a), 1, 0)\n",
    "\n",
    "    # Graphical check\n",
    "    plt.figure()\n",
    "    plt.plot(x, v, 'r')\n",
    "    plt.title(\"Indicator Function\")\n",
    "    plt.xlabel(\"x\")\n",
    "    plt.ylabel(\"Indicator Value\")\n",
    "    plt.show()\n",
    "\n",
    "    return v\n",
    "\n",
    "# Example usage\n",
    "v = indicator(a=5, N=100, dx=0.1)\n"
   ]
  }
 ],
 "metadata": {
  "language_info": {
   "name": "python"
  },
  "orig_nbformat": 4
 },
 "nbformat": 4,
 "nbformat_minor": 2
}
