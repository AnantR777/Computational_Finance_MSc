{
 "cells": [
  {
   "cell_type": "markdown",
   "metadata": {},
   "source": [
    "#Chapter 1. "
   ]
  },
  {
   "cell_type": "markdown",
   "metadata": {},
   "source": [
    "Programming languages, programming basics, data types, operators, expressions, control structures (sequential, conditional and iterated execution), vector/array operations, input/output, plots, style, floating-point representation of real numbers, numerical errors."
   ]
  },
  {
   "cell_type": "markdown",
   "metadata": {},
   "source": [
    "np.linspace is for when you have a specific number of points you want and np.arange is for when you have a specific step size you want"
   ]
  },
  {
   "cell_type": "markdown",
   "metadata": {},
   "source": [
    "np.linspace(start, stop, num=50, endpoint=True, retstep=False, dtype=None)"
   ]
  },
  {
   "cell_type": "markdown",
   "metadata": {},
   "source": [
    "np.linspace generates an array of num evenly spaced samples calculated over the closed interval [start, stop] or the half-open interval [start, stop) (depending on whether endpoint is True or False).\n",
    "\n",
    "start: The starting value of the sequence.\n",
    "\n",
    "stop: The end value of the sequence, which can be included (endpoint=True) or excluded (endpoint=False).\n",
    "\n",
    "num: The number of samples to generate. Default is 50.\n",
    "\n",
    "endpoint: If True (default), stop is the last sample. Otherwise, it is not included.\n",
    "\n",
    "retstep: If True, return (samples, step), where step is the spacing between samples.\n",
    "\n"
   ]
  },
  {
   "cell_type": "markdown",
   "metadata": {},
   "source": [
    "np.arange(start, stop, step, dtype=None)"
   ]
  },
  {
   "cell_type": "markdown",
   "metadata": {},
   "source": [
    "np.arange returns an array with evenly spaced values within a given half-open interval [start, stop). np.arange can be thought of as the numpy equivalent of Python's range function, but it returns an array and can handle non-integer step values. DOes not include stop value\n",
    "\n",
    "start: The start of the interval.\n",
    "\n",
    "stop: The end of the interval (and not included in the output unless step is not an integer and floating-point rounding affects the output).\n",
    "\n",
    "step: The spacing between values. Default is 1.\n",
    "\n",
    "dtype: The type of the output array."
   ]
  },
  {
   "cell_type": "markdown",
   "metadata": {},
   "source": [
    "Sturges Rule: Optimal Number of Bins \n",
    "N = 1 + log_2(N_{sample})"
   ]
  },
  {
   "cell_type": "markdown",
   "metadata": {},
   "source": [
    "Scott Rule: Optimal Bin Width Length\n",
    "delata x = 3.49*sigma/ cuberoot (N_{sample})"
   ]
  },
  {
   "cell_type": "markdown",
   "metadata": {},
   "source": [
    "Generate Random Matrixes \n",
    "\n",
    "uniform_matrix = np.random.rand(3, 3)\n",
    "normal_matirx = np.random.randn(3,3)\n"
   ]
  }
 ],
 "metadata": {
  "kernelspec": {
   "display_name": ".venv",
   "language": "python",
   "name": "python3"
  },
  "language_info": {
   "codemirror_mode": {
    "name": "ipython",
    "version": 3
   },
   "file_extension": ".py",
   "mimetype": "text/x-python",
   "name": "python",
   "nbconvert_exporter": "python",
   "pygments_lexer": "ipython3",
   "version": "3.9.6"
  },
  "orig_nbformat": 4
 },
 "nbformat": 4,
 "nbformat_minor": 2
}
