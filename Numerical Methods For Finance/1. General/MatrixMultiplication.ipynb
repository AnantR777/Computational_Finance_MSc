{
 "cells": [
  {
   "cell_type": "code",
   "execution_count": null,
   "metadata": {},
   "outputs": [],
   "source": [
    "#various methods of performing matrix multiplication and compares their execution times for increasing matrix sizes."
   ]
  },
  {
   "cell_type": "code",
   "execution_count": 1,
   "metadata": {},
   "outputs": [
    {
     "name": "stdout",
     "output_type": "stream",
     "text": [
      "Matrix multiplication (built-in) for n = 10: 0.00000 seconds\n",
      "Matrix multiplication (triple loop) for n = 10: 0.00040 seconds\n",
      "Matrix multiplication (built-in) for n = 100: 0.00132 seconds\n",
      "Matrix multiplication (triple loop) for n = 100: 0.46358 seconds\n",
      "Matrix multiplication (built-in) for n = 1000: 0.06128 seconds\n",
      "Matrix multiplication (triple loop) for n = 1000: 372.68338 seconds\n"
     ]
    }
   ],
   "source": [
    "import numpy as np\n",
    "import time\n",
    "\n",
    "# Define a polynomial function (currently not used in matrix multiplication part)\n",
    "def poly(x, a, b):\n",
    "    return a * np.power(x, b)\n",
    "\n",
    "# Matrix multiplication examples with different methods\n",
    "n = 3  # Size of the matrices\n",
    "A = np.random.rand(n, n)  # Random matrix A\n",
    "B = np.random.rand(n, n)  # Random matrix B\n",
    "\n",
    "# (a) NumPy's built-in dot function for matrix multiplication\n",
    "C = np.dot(A, B)\n",
    "\n",
    "# (b) Using three nested for loops for matrix multiplication\n",
    "C1 = np.zeros((n, n))\n",
    "for i in range(n):\n",
    "    for j in range(n):\n",
    "        for k in range(n):\n",
    "            C1[i, j] += A[i, k] * B[k, j]\n",
    "\n",
    "# (c) Swapping the two outer loops in the triple nested loop\n",
    "C2 = np.zeros((n, n))\n",
    "for j in range(n):\n",
    "    for i in range(n):\n",
    "        for k in range(n):\n",
    "            C2[i, j] += A[i, k] * B[k, j]\n",
    "\n",
    "# (d) Using two for loops and np.sum() for matrix multiplication\n",
    "C3 = np.zeros((n, n))\n",
    "for i in range(n):\n",
    "    for j in range(n):\n",
    "        C3[i, j] = np.sum(A[i, :] * B[:, j])\n",
    "\n",
    "# (e) Transposing A and then using two for loops and np.sum()\n",
    "AT = A.T  # Transpose of A\n",
    "C4 = np.zeros((n, n))\n",
    "for i in range(n):\n",
    "    for j in range(n):\n",
    "        C4[i, j] = np.sum(AT[:, i] * B[:, j])\n",
    "\n",
    "# (f) Transposing B and then using two for loops and np.sum()\n",
    "BT = B.T  # Transpose of B\n",
    "C5 = np.zeros((n, n))\n",
    "for i in range(n):\n",
    "    for j in range(n):\n",
    "        C5[i, j] = np.sum(A[i, :] * BT[j, :])\n",
    "\n",
    "# (g) Comparing execution time for increasing matrix sizes\n",
    "n_values = [10, 100, 1000]  # Different sizes of matrices to test\n",
    "for n in n_values:\n",
    "    A = np.random.rand(n, n)\n",
    "    B = np.random.rand(n, n)\n",
    "    \n",
    "    # (a) Built-in numpy dot function\n",
    "    start_time = time.time()\n",
    "    C = np.dot(A, B)\n",
    "    elapsed_time = time.time() - start_time\n",
    "    print(f\"Matrix multiplication (built-in) for n = {n}: {elapsed_time:.5f} seconds\")\n",
    "    \n",
    "    # (b) Triple nested loop\n",
    "    start_time = time.time()\n",
    "    C1 = np.zeros((n, n))\n",
    "    for i in range(n):\n",
    "        for j in range(n):\n",
    "            for k in range(n):\n",
    "                C1[i, j] += A[i, k] * B[k, j]\n",
    "    elapsed_time = time.time() - start_time\n",
    "    print(f\"Matrix multiplication (triple loop) for n = {n}: {elapsed_time:.5f} seconds\")\n",
    "    # Other methods (c-f) can be timed similarly if needed\n"
   ]
  }
 ],
 "metadata": {
  "kernelspec": {
   "display_name": ".venv",
   "language": "python",
   "name": "python3"
  },
  "language_info": {
   "codemirror_mode": {
    "name": "ipython",
    "version": 3
   },
   "file_extension": ".py",
   "mimetype": "text/x-python",
   "name": "python",
   "nbconvert_exporter": "python",
   "pygments_lexer": "ipython3",
   "version": "3.9.6"
  },
  "orig_nbformat": 4
 },
 "nbformat": 4,
 "nbformat_minor": 2
}
