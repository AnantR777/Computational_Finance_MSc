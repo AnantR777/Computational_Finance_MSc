{
 "cells": [
  {
   "cell_type": "markdown",
   "metadata": {},
   "source": [
    "# Machine Precision or Machine Epsilon"
   ]
  },
  {
   "cell_type": "code",
   "execution_count": 3,
   "metadata": {},
   "outputs": [],
   "source": [
    "## Machine Precision or Machine Epsilon\n",
    "\n",
    "# The machine precision is defined as the smallest number such that when\n",
    "# added to 1 results in a different number than 1.\n",
    "# i.e. 1 + macheps ~= 1 but anything less than macheps = 1"
   ]
  },
  {
   "cell_type": "code",
   "execution_count": 4,
   "metadata": {},
   "outputs": [
    {
     "name": "stdout",
     "output_type": "stream",
     "text": [
      "Approach 1 - Final value of i: 52, epsA: 2.220446049250313e-16\n"
     ]
    }
   ],
   "source": [
    "## Approach 1 - Using 'for', 'if', and 'break' commands\n",
    "# We can compute macheps using a for loop with sufficient other commands to\n",
    "# stop the process when macheps gets small enough.\n",
    "\n",
    "# Initialize epsilon\n",
    "epsA = 1.0\n",
    "\n",
    "# Iterate to find the machine epsilon\n",
    "for i in range(1, 101):\n",
    "    epsA /= 2  # Halve epsA\n",
    "    if 1 + epsA == 1:\n",
    "        break\n",
    "\n",
    "# At this point we must remember that epsA is now too small and must be\n",
    "# rescaled\n",
    "\n",
    "epsA *= 2\n",
    "i -= 1  # Adjust the loop counter\n",
    "print(f\"Approach 1 - Final value of i: {i}, epsA: {epsA}\")\n"
   ]
  },
  {
   "cell_type": "code",
   "execution_count": 5,
   "metadata": {},
   "outputs": [
    {
     "name": "stdout",
     "output_type": "stream",
     "text": [
      "Approach 2 - epsB: 2.220446049250313e-16\n"
     ]
    }
   ],
   "source": [
    "## Approach 2 - Using a 'while loop'\n",
    "# We can also compute the macheps using a while loop resulting in a much\n",
    "# cleaner code.\n",
    "\n",
    "epsB = 1.0\n",
    "\n",
    "# Iterate using a while loop\n",
    "while 1 + epsB / 2 != 1:\n",
    "    epsB /= 2\n",
    "\n",
    "print(f\"Approach 2 - epsB: {epsB}\")\n"
   ]
  },
  {
   "cell_type": "code",
   "execution_count": 6,
   "metadata": {},
   "outputs": [
    {
     "name": "stdout",
     "output_type": "stream",
     "text": [
      "Approach 3 - epsC: 2.220446049250313e-16\n"
     ]
    }
   ],
   "source": [
    "## Approach 3 - The function f(i) required to reach eps\n",
    "# We can clearly see that there is a function that depends on i (above)\n",
    "# that will generate our macheps.\n",
    "# The function is given by:\n",
    "#   f(i) = 1/(2^i) \n",
    "# Where our i is the loop counter which results in (1+macheps)>1\n",
    "# i = 52 from above.\n",
    "\n",
    "# Directly computing machine epsilon using the function f(i) = 1 / (2^i)\n",
    "# i is the loop counter from Approach 1\n",
    "epsC = 1 / (2 ** i)\n",
    "\n",
    "print(f\"Approach 3 - epsC: {epsC}\")"
   ]
  },
  {
   "cell_type": "code",
   "execution_count": 7,
   "metadata": {},
   "outputs": [
    {
     "name": "stdout",
     "output_type": "stream",
     "text": [
      "Approach 1 Tests:\n",
      "1 + epsA: 1.0000000000000002 (Should be different from 1)\n",
      "1 + epsA/2: 1.0 (Should be the same as 1)\n",
      "Approach 2 Tests:\n",
      "1 + epsB: 1.0000000000000002 (Should be different from 1)\n",
      "1 + epsB/2: 1.0 (Should be the same as 1)\n",
      "Approach 3 Tests:\n",
      "1 + epsC: 1.0000000000000002 (Should be different from 1)\n",
      "1 + epsC/2: 1.0 (Should be the same as 1)\n"
     ]
    }
   ],
   "source": [
    "# Logical Tests to confirm the results\n",
    "\n",
    "# Tests for Approach 1\n",
    "print(\"Approach 1 Tests:\")\n",
    "print(f\"1 + epsA: {1 + epsA} (Should be different from 1)\")\n",
    "print(f\"1 + epsA/2: {1 + epsA/2} (Should be the same as 1)\")\n",
    "\n",
    "# Tests for Approach 2\n",
    "print(\"Approach 2 Tests:\")\n",
    "print(f\"1 + epsB: {1 + epsB} (Should be different from 1)\")\n",
    "print(f\"1 + epsB/2: {1 + epsB/2} (Should be the same as 1)\")\n",
    "\n",
    "# Tests for Approach 3\n",
    "print(\"Approach 3 Tests:\")\n",
    "print(f\"1 + epsC: {1 + epsC} (Should be different from 1)\")\n",
    "print(f\"1 + epsC/2: {1 + epsC/2} (Should be the same as 1)\")"
   ]
  }
 ],
 "metadata": {
  "kernelspec": {
   "display_name": ".venv",
   "language": "python",
   "name": "python3"
  },
  "language_info": {
   "codemirror_mode": {
    "name": "ipython",
    "version": 3
   },
   "file_extension": ".py",
   "mimetype": "text/x-python",
   "name": "python",
   "nbconvert_exporter": "python",
   "pygments_lexer": "ipython3",
   "version": "3.9.6"
  },
  "orig_nbformat": 4
 },
 "nbformat": 4,
 "nbformat_minor": 2
}
