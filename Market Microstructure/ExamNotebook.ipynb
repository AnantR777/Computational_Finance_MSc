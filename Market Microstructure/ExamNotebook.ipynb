{
 "cells": [
  {
   "cell_type": "markdown",
   "metadata": {},
   "source": [
    "# COMP0049 - Market Microstructure PRACTICAL EXAM (100%)"
   ]
  },
  {
   "cell_type": "markdown",
   "metadata": {},
   "source": [
    "Stocks LOB files should be saved in the same folder of this notebook in a subfolder named 'data'. Data provided is for 1 stock, ' NVDA' for one trading day (2017-03-08). Data are already processed and formatted in a single LOB file, containing  volumes and prices (10 price levels) for buy/sell side and timestamp."
   ]
  },
  {
   "cell_type": "markdown",
   "metadata": {},
   "source": [
    "# STUDENT NUMBER: {20006373}"
   ]
  },
  {
   "cell_type": "code",
   "execution_count": 4,
   "metadata": {},
   "outputs": [],
   "source": [
    "#libraries import\n",
    "import glob\n",
    "\n",
    "import pandas as pd\n",
    "import numpy as np\n",
    "import seaborn as sns\n",
    "from datetime import datetime\n",
    "import scipy.stats.distributions as sts\n",
    "from scipy.stats import norm\n",
    "import scipy as sp\n",
    "import statsmodels.api as sm\n",
    "import matplotlib.pyplot as plt"
   ]
  },
  {
   "cell_type": "code",
   "execution_count": 7,
   "metadata": {},
   "outputs": [
    {
     "data": {
      "text/plain": [
       "[]"
      ]
     },
     "execution_count": 7,
     "metadata": {},
     "output_type": "execute_result"
    }
   ],
   "source": [
    "#available files\n",
    "all_files = glob.glob(f\"./data/*.*\")\n",
    "all_files"
   ]
  },
  {
   "cell_type": "code",
   "execution_count": 3,
   "metadata": {},
   "outputs": [],
   "source": [
    "#read csv files into dataframe\n",
    "df_0 = pd.read_csv(all_files[0])\n"
   ]
  },
  {
   "cell_type": "code",
   "execution_count": 4,
   "metadata": {},
   "outputs": [],
   "source": [
    "#formatting date-time correctly\n",
    "df_0['seconds'] = pd.to_datetime(df_0['seconds'])\n"
   ]
  },
  {
   "cell_type": "code",
   "execution_count": 5,
   "metadata": {},
   "outputs": [
    {
     "data": {
      "text/html": [
       "<div>\n",
       "<style scoped>\n",
       "    .dataframe tbody tr th:only-of-type {\n",
       "        vertical-align: middle;\n",
       "    }\n",
       "\n",
       "    .dataframe tbody tr th {\n",
       "        vertical-align: top;\n",
       "    }\n",
       "\n",
       "    .dataframe thead th {\n",
       "        text-align: right;\n",
       "    }\n",
       "</style>\n",
       "<table border=\"1\" class=\"dataframe\">\n",
       "  <thead>\n",
       "    <tr style=\"text-align: right;\">\n",
       "      <th></th>\n",
       "      <th>seconds</th>\n",
       "      <th>ASKp1</th>\n",
       "      <th>ASKs1</th>\n",
       "      <th>BIDp1</th>\n",
       "      <th>BIDs1</th>\n",
       "      <th>ASKp2</th>\n",
       "      <th>ASKs2</th>\n",
       "      <th>BIDp2</th>\n",
       "      <th>BIDs2</th>\n",
       "      <th>ASKp3</th>\n",
       "      <th>...</th>\n",
       "      <th>BIDp8</th>\n",
       "      <th>BIDs8</th>\n",
       "      <th>ASKp9</th>\n",
       "      <th>ASKs9</th>\n",
       "      <th>BIDp9</th>\n",
       "      <th>BIDs9</th>\n",
       "      <th>ASKp10</th>\n",
       "      <th>ASKs10</th>\n",
       "      <th>BIDp10</th>\n",
       "      <th>BIDs10</th>\n",
       "    </tr>\n",
       "  </thead>\n",
       "  <tbody>\n",
       "    <tr>\n",
       "      <th>0</th>\n",
       "      <td>2017-03-08 09:40:03.319941</td>\n",
       "      <td>100.75</td>\n",
       "      <td>100</td>\n",
       "      <td>100.72</td>\n",
       "      <td>100</td>\n",
       "      <td>100.80</td>\n",
       "      <td>2179</td>\n",
       "      <td>100.71</td>\n",
       "      <td>1200</td>\n",
       "      <td>100.81</td>\n",
       "      <td>...</td>\n",
       "      <td>100.65</td>\n",
       "      <td>204</td>\n",
       "      <td>100.87</td>\n",
       "      <td>5301</td>\n",
       "      <td>100.64</td>\n",
       "      <td>400</td>\n",
       "      <td>100.88</td>\n",
       "      <td>200</td>\n",
       "      <td>100.63</td>\n",
       "      <td>100</td>\n",
       "    </tr>\n",
       "    <tr>\n",
       "      <th>1</th>\n",
       "      <td>2017-03-08 09:40:03.320120</td>\n",
       "      <td>100.75</td>\n",
       "      <td>100</td>\n",
       "      <td>100.72</td>\n",
       "      <td>100</td>\n",
       "      <td>100.80</td>\n",
       "      <td>2179</td>\n",
       "      <td>100.71</td>\n",
       "      <td>1200</td>\n",
       "      <td>100.81</td>\n",
       "      <td>...</td>\n",
       "      <td>100.65</td>\n",
       "      <td>204</td>\n",
       "      <td>100.87</td>\n",
       "      <td>5200</td>\n",
       "      <td>100.64</td>\n",
       "      <td>400</td>\n",
       "      <td>100.88</td>\n",
       "      <td>200</td>\n",
       "      <td>100.63</td>\n",
       "      <td>100</td>\n",
       "    </tr>\n",
       "    <tr>\n",
       "      <th>2</th>\n",
       "      <td>2017-03-08 09:40:03.320974</td>\n",
       "      <td>100.80</td>\n",
       "      <td>2179</td>\n",
       "      <td>100.72</td>\n",
       "      <td>100</td>\n",
       "      <td>100.81</td>\n",
       "      <td>149</td>\n",
       "      <td>100.71</td>\n",
       "      <td>1200</td>\n",
       "      <td>100.82</td>\n",
       "      <td>...</td>\n",
       "      <td>100.65</td>\n",
       "      <td>204</td>\n",
       "      <td>100.88</td>\n",
       "      <td>200</td>\n",
       "      <td>100.64</td>\n",
       "      <td>400</td>\n",
       "      <td>100.89</td>\n",
       "      <td>100</td>\n",
       "      <td>100.63</td>\n",
       "      <td>100</td>\n",
       "    </tr>\n",
       "    <tr>\n",
       "      <th>3</th>\n",
       "      <td>2017-03-08 09:40:03.321003</td>\n",
       "      <td>100.80</td>\n",
       "      <td>2179</td>\n",
       "      <td>100.73</td>\n",
       "      <td>100</td>\n",
       "      <td>100.81</td>\n",
       "      <td>149</td>\n",
       "      <td>100.72</td>\n",
       "      <td>100</td>\n",
       "      <td>100.82</td>\n",
       "      <td>...</td>\n",
       "      <td>100.66</td>\n",
       "      <td>249</td>\n",
       "      <td>100.88</td>\n",
       "      <td>200</td>\n",
       "      <td>100.65</td>\n",
       "      <td>204</td>\n",
       "      <td>100.89</td>\n",
       "      <td>100</td>\n",
       "      <td>100.64</td>\n",
       "      <td>400</td>\n",
       "    </tr>\n",
       "    <tr>\n",
       "      <th>4</th>\n",
       "      <td>2017-03-08 09:40:03.321014</td>\n",
       "      <td>100.80</td>\n",
       "      <td>2079</td>\n",
       "      <td>100.73</td>\n",
       "      <td>100</td>\n",
       "      <td>100.81</td>\n",
       "      <td>149</td>\n",
       "      <td>100.72</td>\n",
       "      <td>100</td>\n",
       "      <td>100.82</td>\n",
       "      <td>...</td>\n",
       "      <td>100.66</td>\n",
       "      <td>249</td>\n",
       "      <td>100.88</td>\n",
       "      <td>200</td>\n",
       "      <td>100.65</td>\n",
       "      <td>204</td>\n",
       "      <td>100.89</td>\n",
       "      <td>100</td>\n",
       "      <td>100.64</td>\n",
       "      <td>400</td>\n",
       "    </tr>\n",
       "  </tbody>\n",
       "</table>\n",
       "<p>5 rows × 41 columns</p>\n",
       "</div>"
      ],
      "text/plain": [
       "                     seconds   ASKp1  ASKs1   BIDp1  BIDs1   ASKp2  ASKs2  \\\n",
       "0 2017-03-08 09:40:03.319941  100.75    100  100.72    100  100.80   2179   \n",
       "1 2017-03-08 09:40:03.320120  100.75    100  100.72    100  100.80   2179   \n",
       "2 2017-03-08 09:40:03.320974  100.80   2179  100.72    100  100.81    149   \n",
       "3 2017-03-08 09:40:03.321003  100.80   2179  100.73    100  100.81    149   \n",
       "4 2017-03-08 09:40:03.321014  100.80   2079  100.73    100  100.81    149   \n",
       "\n",
       "    BIDp2  BIDs2   ASKp3  ...   BIDp8  BIDs8   ASKp9  ASKs9   BIDp9  BIDs9  \\\n",
       "0  100.71   1200  100.81  ...  100.65    204  100.87   5301  100.64    400   \n",
       "1  100.71   1200  100.81  ...  100.65    204  100.87   5200  100.64    400   \n",
       "2  100.71   1200  100.82  ...  100.65    204  100.88    200  100.64    400   \n",
       "3  100.72    100  100.82  ...  100.66    249  100.88    200  100.65    204   \n",
       "4  100.72    100  100.82  ...  100.66    249  100.88    200  100.65    204   \n",
       "\n",
       "   ASKp10  ASKs10  BIDp10  BIDs10  \n",
       "0  100.88     200  100.63     100  \n",
       "1  100.88     200  100.63     100  \n",
       "2  100.89     100  100.63     100  \n",
       "3  100.89     100  100.64     400  \n",
       "4  100.89     100  100.64     400  \n",
       "\n",
       "[5 rows x 41 columns]"
      ]
     },
     "execution_count": 5,
     "metadata": {},
     "output_type": "execute_result"
    }
   ],
   "source": [
    "#check file structure\n",
    "df_0.head()"
   ]
  },
  {
   "cell_type": "code",
   "execution_count": 5,
   "metadata": {},
   "outputs": [
    {
     "ename": "NameError",
     "evalue": "name 'df_0' is not defined",
     "output_type": "error",
     "traceback": [
      "\u001b[1;31m---------------------------------------------------------------------------\u001b[0m",
      "\u001b[1;31mNameError\u001b[0m                                 Traceback (most recent call last)",
      "Cell \u001b[1;32mIn[5], line 1\u001b[0m\n\u001b[1;32m----> 1\u001b[0m spread \u001b[38;5;241m=\u001b[39m pd\u001b[38;5;241m.\u001b[39mDataFrame(\u001b[43mdf_0\u001b[49m[\u001b[38;5;124m'\u001b[39m\u001b[38;5;124mASKp1\u001b[39m\u001b[38;5;124m'\u001b[39m] \u001b[38;5;241m-\u001b[39m df_0[\u001b[38;5;124m'\u001b[39m\u001b[38;5;124mBIDp1\u001b[39m\u001b[38;5;124m'\u001b[39m])\n\u001b[0;32m      2\u001b[0m ax \u001b[38;5;241m=\u001b[39m spread\u001b[38;5;241m.\u001b[39mplot()\n\u001b[0;32m      3\u001b[0m ax\u001b[38;5;241m.\u001b[39mset_xlabel(\u001b[38;5;124m\"\u001b[39m\u001b[38;5;124mTime\u001b[39m\u001b[38;5;124m\"\u001b[39m)\n",
      "\u001b[1;31mNameError\u001b[0m: name 'df_0' is not defined"
     ]
    }
   ],
   "source": [
    "spread = pd.DataFrame(df_0['ASKp1'] - df_0['BIDp1']) # ask - bid\n",
    "spread.columns = ['Spread']\n",
    "ax = spread.plot()\n",
    "ax.set_xlabel(\"Time\")\n",
    "ax.set_ylabel(\"Spread\")\n",
    "ax.set_title(\"Spread over time\")\n",
    "\n",
    "mid_price = pd.DataFrame((df_0['ASKp1'] + df_0['BIDp1'])/2) # (ask + bid)/2\n",
    "mid_price.columns = ['MidPrice']\n",
    "ax2 = mid_price.plot()\n",
    "ax2.set_xlabel(\"Time\")\n",
    "ax2.set_ylabel(\"Mid Price\")\n",
    "ax2.set_title(\"Mid Price over time\")\n",
    "\n",
    "\n",
    "\n"
   ]
  },
  {
   "cell_type": "markdown",
   "metadata": {},
   "source": [
    "Q1 - You can use the function below to calculate the close mid after binning. To calculate the returns, you would need to add their definition as a function of the close mid. This function takes as iinput a dataframe as the ones below, where an extra column\n",
    "named 'MidPrice' and containing values of mid-price at different times has been added."
   ]
  },
  {
   "cell_type": "code",
   "execution_count": 32,
   "metadata": {},
   "outputs": [],
   "source": [
    "def retsdef(df):\n",
    "    bin_size = '15s'\n",
    "    groups_by_secs = df.groupby(pd.Grouper(key='seconds', freq=bin_size))\n",
    "    group_ticks_len = []\n",
    "  \n",
    "    close_mid = []\n",
    "    number_missing_seconds = 0\n",
    "\n",
    "    for k in groups_by_secs:\n",
    "        if len(k[1] != 0):\n",
    "            group_ticks_len.append(len(k[1]))\n",
    "            close_mid.append(list(k[1].MidPrice)[-1])\n",
    "        else:\n",
    "            number_missing_seconds += 1\n",
    "\n",
    "    ohlc = pd.DataFrame({'Close':close_mid})\n",
    "    log_rets = #add here log-returns definition\n",
    "    return log_rets"
   ]
  }
 ],
 "metadata": {
  "kernelspec": {
   "display_name": "Python 3 (ipykernel)",
   "language": "python",
   "name": "python3"
  },
  "language_info": {
   "codemirror_mode": {
    "name": "ipython",
    "version": 3
   },
   "file_extension": ".py",
   "mimetype": "text/x-python",
   "name": "python",
   "nbconvert_exporter": "python",
   "pygments_lexer": "ipython3",
   "version": "3.9.6"
  }
 },
 "nbformat": 4,
 "nbformat_minor": 4
}
