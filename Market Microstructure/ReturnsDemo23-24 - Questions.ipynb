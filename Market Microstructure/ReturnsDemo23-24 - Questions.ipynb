{
 "cells": [
  {
   "cell_type": "markdown",
   "id": "640af5e6",
   "metadata": {},
   "source": [
    "# Returns Demo"
   ]
  },
  {
   "cell_type": "markdown",
   "id": "06ad63e1",
   "metadata": {},
   "source": [
    "### LOB overview"
   ]
  },
  {
   "cell_type": "markdown",
   "id": "c6e41999",
   "metadata": {},
   "source": [
    "What data have we analysed last week?\n",
    "\n",
    "   1) Stock data (LOBSTER).\n",
    "   \n",
    "   2) Crypto data (Kraken).\n",
    "    \n",
    "Depending on the source, data have different formats and content. \n",
    "\n",
    "In demo we will use cleaned LOB data (from the 'cleaned_data' folder) obtained by running 'preprocessing.py' on the raw LOBSTER files."
   ]
  },
  {
   "cell_type": "code",
   "execution_count": 1,
   "id": "79640dfa",
   "metadata": {},
   "outputs": [
    {
     "ename": "ModuleNotFoundError",
     "evalue": "No module named 'statsmodels'",
     "output_type": "error",
     "traceback": [
      "\u001b[1;31m---------------------------------------------------------------------------\u001b[0m",
      "\u001b[1;31mModuleNotFoundError\u001b[0m                       Traceback (most recent call last)",
      "Cell \u001b[1;32mIn[1], line 10\u001b[0m\n\u001b[0;32m      8\u001b[0m \u001b[38;5;28;01mfrom\u001b[39;00m \u001b[38;5;21;01mscipy\u001b[39;00m\u001b[38;5;21;01m.\u001b[39;00m\u001b[38;5;21;01mstats\u001b[39;00m \u001b[38;5;28;01mimport\u001b[39;00m norm\n\u001b[0;32m      9\u001b[0m \u001b[38;5;28;01mimport\u001b[39;00m \u001b[38;5;21;01mscipy\u001b[39;00m \u001b[38;5;28;01mas\u001b[39;00m \u001b[38;5;21;01msp\u001b[39;00m\n\u001b[1;32m---> 10\u001b[0m \u001b[38;5;28;01mimport\u001b[39;00m \u001b[38;5;21;01mstatsmodels\u001b[39;00m\u001b[38;5;21;01m.\u001b[39;00m\u001b[38;5;21;01mapi\u001b[39;00m \u001b[38;5;28;01mas\u001b[39;00m \u001b[38;5;21;01msm\u001b[39;00m\n\u001b[0;32m     12\u001b[0m \u001b[38;5;28;01mimport\u001b[39;00m \u001b[38;5;21;01mmatplotlib\u001b[39;00m\u001b[38;5;21;01m.\u001b[39;00m\u001b[38;5;21;01mpyplot\u001b[39;00m \u001b[38;5;28;01mas\u001b[39;00m \u001b[38;5;21;01mplt\u001b[39;00m\n",
      "\u001b[1;31mModuleNotFoundError\u001b[0m: No module named 'statsmodels'"
     ]
    }
   ],
   "source": [
    "#import libraries\n",
    "import glob\n",
    "\n",
    "import pandas as pd\n",
    "import numpy as np\n",
    "\n",
    "import scipy.stats.distributions as sts\n",
    "from scipy.stats import norm\n",
    "import scipy as sp\n",
    "import statsmodels.api as sm\n",
    "\n",
    "import matplotlib.pyplot as plt"
   ]
  },
  {
   "cell_type": "code",
   "execution_count": null,
   "id": "8964ac70",
   "metadata": {},
   "outputs": [],
   "source": [
    "stock = 'FB'"
   ]
  },
  {
   "cell_type": "code",
   "execution_count": null,
   "id": "caa1a068",
   "metadata": {},
   "outputs": [],
   "source": [
    "all_files = glob.glob(f\"./Stocks/{stock}/cleaned_data/*.*\")\n",
    "all_files"
   ]
  },
  {
   "cell_type": "code",
   "execution_count": null,
   "id": "2f91e420",
   "metadata": {},
   "outputs": [],
   "source": [
    "df = pd.read_csv(all_files[0])\n",
    "df.columns"
   ]
  },
  {
   "cell_type": "code",
   "execution_count": null,
   "id": "cc81fd7a",
   "metadata": {},
   "outputs": [],
   "source": [
    "df.DateTime = pd.to_datetime(df.DateTime, format='%Y-%m-%d %H:%M:%S:%f')\n",
    "#df.DateTime = pd.to_datetime(df.DateTime)"
   ]
  },
  {
   "cell_type": "code",
   "execution_count": null,
   "id": "edc08393",
   "metadata": {},
   "outputs": [],
   "source": [
    "#Q1: calculate the mid-price and add an extra column to the dataframe to store it."
   ]
  },
  {
   "cell_type": "code",
   "execution_count": null,
   "id": "cc2f0f65",
   "metadata": {},
   "outputs": [],
   "source": [
    "#Q2: plot mid-price in time (you can use plt.plot)"
   ]
  },
  {
   "cell_type": "code",
   "execution_count": null,
   "id": "15d0538e",
   "metadata": {},
   "outputs": [],
   "source": [
    "#Q3: calculate the mean spread, what information does spread provide?"
   ]
  },
  {
   "cell_type": "code",
   "execution_count": null,
   "id": "56c81853",
   "metadata": {},
   "outputs": [],
   "source": [
    "#Q4: provide a definition of tick size and calculate it empirically from the price data"
   ]
  },
  {
   "cell_type": "markdown",
   "id": "0a577719",
   "metadata": {},
   "source": [
    "### Analysis of returns\n",
    "\n",
    "We can define multiple types of returns in LOB. Each of them has a different meaning. Here we will analyse the simplest definition of LOB returns. As a first step we need to group ticks in bins with a fixed time size (e.g. 1s, 10s, 1T, 1H, ...)."
   ]
  },
  {
   "cell_type": "code",
   "execution_count": null,
   "id": "67c4e440",
   "metadata": {},
   "outputs": [],
   "source": [
    "bin_size = '1s'\n",
    "groups_by_secs = df.groupby(pd.Grouper(key='DateTime', freq=bin_size))"
   ]
  },
  {
   "cell_type": "code",
   "execution_count": null,
   "id": "037c9d49",
   "metadata": {},
   "outputs": [],
   "source": [
    "group_ticks_len = []\n",
    "open_mid = []\n",
    "high_mid = []\n",
    "low_mid = []\n",
    "close_mid = []\n",
    "number_missing_seconds = 0\n",
    "\n",
    "for k in groups_by_secs:\n",
    "    if len(k[1] != 0):\n",
    "        group_ticks_len.append(len(k[1]))\n",
    "        open_mid.append(list(k[1].MidPrice)[0])\n",
    "        high_mid.append(max(list(k[1].MidPrice)))\n",
    "        low_mid.append(min(list(k[1].MidPrice)))\n",
    "        close_mid.append(list(k[1].MidPrice)[-1])\n",
    "    else:\n",
    "        number_missing_seconds += 1"
   ]
  },
  {
   "cell_type": "code",
   "execution_count": null,
   "id": "939bff88",
   "metadata": {},
   "outputs": [],
   "source": [
    "print(f\"Average bins size: {round(np.mean(group_ticks_len), 2)} ticks.\")\n",
    "print(f\"Std bins' length: {round(np.std(group_ticks_len), 2)} ticks.\")\n",
    "print(f\"Number of missing bins (={bin_size}) in one trading day: {number_missing_seconds}\")\n",
    "print(f\"Average mid price: {round(np.mean(close_mid), 2)}$\")"
   ]
  },
  {
   "cell_type": "code",
   "execution_count": null,
   "id": "91c59dcf",
   "metadata": {},
   "outputs": [],
   "source": [
    "#Q5: try to decrease bin size, what do you observe in terms 'Number of missing/empty bins' and why?"
   ]
  },
  {
   "cell_type": "code",
   "execution_count": null,
   "id": "483defff",
   "metadata": {},
   "outputs": [],
   "source": [
    "plt.hist(group_ticks_len, bins=100)\n",
    "plt.axvline(np.mean(group_ticks_len), color='red', label=\"Average bins' size (in ticks)\")\n",
    "plt.title(\"Bins' size distribution\")\n",
    "plt.xlabel('Size of the bin')\n",
    "plt.ylabel('Frequency')\n",
    "plt.legend()\n",
    "plt.show()"
   ]
  },
  {
   "cell_type": "code",
   "execution_count": null,
   "id": "521180fe",
   "metadata": {},
   "outputs": [],
   "source": [
    "plt.hist(group_ticks_len, bins=100, histtype='step')\n",
    "plt.axvline(np.mean(group_ticks_len), color='red', label=\"Average bins' size (in ticks)\")\n",
    "plt.xscale('log')\n",
    "plt.yscale('log')\n",
    "plt.title(\"Bins' size distribution (log-log plot)\")\n",
    "plt.xlabel('Size of the bin')\n",
    "plt.ylabel('Frequency')\n",
    "plt.legend()\n",
    "plt.show()"
   ]
  },
  {
   "cell_type": "markdown",
   "id": "7f01d541",
   "metadata": {},
   "source": [
    "Let's transform bins into OHLC (open, high, low, close) data."
   ]
  },
  {
   "cell_type": "code",
   "execution_count": null,
   "id": "070ff6cd",
   "metadata": {},
   "outputs": [],
   "source": [
    "ohlc = pd.DataFrame({'Open':open_mid, 'High':high_mid, 'Low':low_mid, 'Close':close_mid})"
   ]
  },
  {
   "cell_type": "code",
   "execution_count": null,
   "id": "8f804bee",
   "metadata": {},
   "outputs": [],
   "source": [
    "#Q6: calculate the returns from the closing mid-price"
   ]
  },
  {
   "cell_type": "code",
   "execution_count": null,
   "id": "44e29fde",
   "metadata": {},
   "outputs": [],
   "source": [
    "#Q7 plot the returns vs. time and their distribution (histogram)"
   ]
  },
  {
   "cell_type": "code",
   "execution_count": null,
   "id": "6228e27a",
   "metadata": {
    "scrolled": true
   },
   "outputs": [],
   "source": [
    "plt.hist(log_rets, bins=100, histtype='step')\n",
    "plt.xlabel('Log return')\n",
    "plt.ylabel('Frequency')\n",
    "plt.xscale('log')\n",
    "plt.yscale('log')\n",
    "plt.title(\"Log returns' distribution (log-log plot)\")"
   ]
  },
  {
   "cell_type": "markdown",
   "id": "7f1299f5",
   "metadata": {},
   "source": [
    "Let's try to study normality of returns' distribution based on the empirical kurtosis."
   ]
  },
  {
   "cell_type": "code",
   "execution_count": null,
   "id": "0f781d08",
   "metadata": {},
   "outputs": [],
   "source": [
    "#Q8: define a function to calculate the kurtosis of the distribution and print it"
   ]
  },
  {
   "cell_type": "code",
   "execution_count": null,
   "id": "28b95c84",
   "metadata": {},
   "outputs": [],
   "source": [
    "def compute_empirical_kurtosis(arr):\n",
    "   #[.....]\n",
    "    return kurtosis"
   ]
  },
  {
   "cell_type": "code",
   "execution_count": null,
   "id": "ef77e4e3",
   "metadata": {},
   "outputs": [],
   "source": [
    "print(f\"Empirical kurtosis of {stock} stock's returns is equal to {round(compute_empirical_kurtosis([......]), 2)}.\")"
   ]
  },
  {
   "cell_type": "markdown",
   "id": "8e50af14",
   "metadata": {},
   "source": [
    "Let's now generate random normally distributed data and let's see what is its kurtosis."
   ]
  },
  {
   "cell_type": "code",
   "execution_count": null,
   "id": "250f94dc",
   "metadata": {},
   "outputs": [],
   "source": [
    "mu, sigma = 0, 1\n",
    "random_normal_data = np.random.normal(mu, sigma, 1000000)"
   ]
  },
  {
   "cell_type": "code",
   "execution_count": null,
   "id": "50441b46",
   "metadata": {},
   "outputs": [],
   "source": [
    "plt.hist(random_normal_data, bins=100)\n",
    "plt.xlabel('Data')\n",
    "plt.ylabel('Frequency')\n",
    "plt.title(\"Random normally distributed data\")\n",
    "plt.show()"
   ]
  },
  {
   "cell_type": "code",
   "execution_count": null,
   "id": "9d254559",
   "metadata": {},
   "outputs": [],
   "source": [
    "print(f\"Empirical kurtosis of normally distributed random data {round(compute_empirical_kurtosis(random_normal_data), 2)}.\")"
   ]
  },
  {
   "cell_type": "code",
   "execution_count": null,
   "id": "d862142c",
   "metadata": {},
   "outputs": [],
   "source": [
    "#Q9: how should we normalise returns to compare them across stocks? Calculate the appropriate quantity and normalise the returns accordingly"
   ]
  },
  {
   "cell_type": "code",
   "execution_count": null,
   "id": "cc695bc0",
   "metadata": {},
   "outputs": [],
   "source": [
    "#Q10: Calculate the empirical (complementary) cumulative density function and plot it against the Gaussian corresponding distribution"
   ]
  },
  {
   "attachments": {
    "Screenshot%202023-10-26%20at%2023.54.57.png": {
     "image/png": "[encoded data removed]"
    }
   },
   "cell_type": "markdown",
   "id": "976fd3f9",
   "metadata": {},
   "source": [
    "![Screenshot%202023-10-26%20at%2023.54.57.png](attachment:Screenshot%202023-10-26%20at%2023.54.57.png)"
   ]
  },
  {
   "attachments": {
    "Screenshot%202023-10-26%20at%2023.55.08.png": {
     "image/png": "[encoded data removed]"
    }
   },
   "cell_type": "markdown",
   "id": "5e3a6581",
   "metadata": {},
   "source": [
    "![Screenshot%202023-10-26%20at%2023.55.08.png](attachment:Screenshot%202023-10-26%20at%2023.55.08.png)"
   ]
  },
  {
   "cell_type": "code",
   "execution_count": null,
   "id": "db4fdecf",
   "metadata": {},
   "outputs": [],
   "source": [
    "def ccdf(data):\n",
    "     #[...]\n",
    "    return(x,y)"
   ]
  },
  {
   "cell_type": "code",
   "execution_count": null,
   "id": "815f094c",
   "metadata": {},
   "outputs": [],
   "source": [
    "def gaussian_ccdf(data):\n",
    "    x = np.array(sorted(data))\n",
    "    N = len(data)\n",
    "    mean = sum(data)/N\n",
    "    std = np.sqrt(sum((data-mean)**2)/N)\n",
    "    c = 0.5*(1 - sp.special.erf((x-mean)/(std*np.sqrt(2))))\n",
    "    return(x,c)"
   ]
  },
  {
   "cell_type": "markdown",
   "id": "184162ed",
   "metadata": {},
   "source": [
    "Let's now study returns' autocorrelation dynamics. We start with a toy example that allows us to better understand how to compute the autocorrelation function."
   ]
  },
  {
   "cell_type": "code",
   "execution_count": null,
   "id": "89dd588f",
   "metadata": {},
   "outputs": [],
   "source": [
    "lags = range(10)"
   ]
  },
  {
   "cell_type": "code",
   "execution_count": null,
   "id": "f54ecf06",
   "metadata": {},
   "outputs": [],
   "source": [
    "data = [3, 16, 156, 47, 246, 176, 233, 140, 130, \n",
    "        101, 166, 201, 200, 116, 118, 247, \n",
    "        209, 52, 153, 232, 128, 27, 192, 168, 208, \n",
    "        187, 228, 86, 30, 151, 18, 254, \n",
    "        76, 112, 67, 244, 179, 150, 89, 49, 83, 147, 90, \n",
    "        33, 6, 158, 80, 35, 186, 127]"
   ]
  },
  {
   "cell_type": "code",
   "execution_count": null,
   "id": "763e245a",
   "metadata": {},
   "outputs": [],
   "source": [
    "acorr = len(lags) * [0]\n",
    "\n",
    "# Mean\n",
    "mean = sum(data) / len(data) \n",
    "\n",
    "# Variance\n",
    "var = sum([(x - mean)**2 for x in data]) / len(data) \n",
    "\n",
    "# Normalised data\n",
    "ndata = [x - mean for x in data]"
   ]
  },
  {
   "cell_type": "code",
   "execution_count": null,
   "id": "bc453f18",
   "metadata": {},
   "outputs": [],
   "source": [
    "print(f\"Mean: {mean}\")\n",
    "print(f\"Variance: {var}\")\n",
    "print(f\"Normalised data: {ndata}\")"
   ]
  },
  {
   "cell_type": "code",
   "execution_count": null,
   "id": "e7f269af",
   "metadata": {},
   "outputs": [],
   "source": [
    "for l in lags:\n",
    "    c = 1\n",
    "    \n",
    "    if (l > 0):\n",
    "        tmp = []\n",
    "        for i in range(len(data) - l):\n",
    "            print(ndata[l:][i])\n",
    "            print(ndata[:-l][i])\n",
    "            tmp.append(ndata[l:][i] * ndata[:-l][i])\n",
    "            print('###')\n",
    "        \n",
    "        c = sum(tmp) / (len(data)-l) / var\n",
    "        \n",
    "    acorr[l] = c"
   ]
  },
  {
   "cell_type": "markdown",
   "id": "ef53a596",
   "metadata": {},
   "source": [
    "Let's now come back to our returns."
   ]
  },
  {
   "cell_type": "code",
   "execution_count": null,
   "id": "63f2b780",
   "metadata": {},
   "outputs": [],
   "source": [
    "#Q11: Using autocorrelation function above and built in Python libraries plot show and explain the phenomenon of \n",
    "#volatility clustering"
   ]
  },
  {
   "cell_type": "markdown",
   "id": "94048c77",
   "metadata": {},
   "source": [
    "Let's now compute the variogram."
   ]
  },
  {
   "cell_type": "code",
   "execution_count": null,
   "id": "35a5556d",
   "metadata": {},
   "outputs": [],
   "source": [
    "vdata = np.array(log_rets)\n",
    "\n",
    "# Mean\n",
    "mean = sum(vdata)/len(vdata)\n",
    "\n",
    "# Variance\n",
    "var = sum([(x - mean)**2 for x in vdata]) / len(vdata) "
   ]
  },
  {
   "cell_type": "code",
   "execution_count": null,
   "id": "b43d3e81",
   "metadata": {},
   "outputs": [],
   "source": [
    "vvalues = len(lags) * [0]"
   ]
  },
  {
   "cell_type": "code",
   "execution_count": null,
   "id": "780436ea",
   "metadata": {},
   "outputs": [],
   "source": [
    "for l in lags:\n",
    "    c = 1\n",
    "    \n",
    "    if (l > 0):\n",
    "        tmp = []\n",
    "        for i in range(len(vdata) - l):\n",
    "            tmp.append((vdata[l:][i] - vdata[:-l][i])**2)\n",
    "        \n",
    "        c = sum(tmp) / (2*(len(vdata))) / var\n",
    "        \n",
    "    vvalues[l] = c"
   ]
  },
  {
   "cell_type": "code",
   "execution_count": null,
   "id": "81c28af9",
   "metadata": {},
   "outputs": [],
   "source": [
    "plt.plot(lags, vvalues)\n",
    "plt.xscale('log')\n",
    "plt.yscale('log')\n",
    "plt.title('Variogram')"
   ]
  },
  {
   "cell_type": "markdown",
   "id": "c8b6de34",
   "metadata": {},
   "source": [
    "As an exercise try to compute the correlogram of log-returns (not absolute log-returns) and try to sum it to the corresponding variogram."
   ]
  },
  {
   "cell_type": "code",
   "execution_count": null,
   "id": "32d373b5",
   "metadata": {},
   "outputs": [],
   "source": [
    "'''plt.clf()\n",
    "plt.plot(acorr[1:])\n",
    "plt.plot(vvalues[1:])\n",
    "plt.plot([x + y for x, y in zip(acorr[1:], vvalues[1:])])'''"
   ]
  },
  {
   "cell_type": "markdown",
   "id": "dcd23584",
   "metadata": {},
   "source": [
    "Let's put all toghether now."
   ]
  },
  {
   "cell_type": "code",
   "execution_count": null,
   "id": "158bf370",
   "metadata": {},
   "outputs": [],
   "source": [
    "stocks = ['JNJ', 'GOOG', 'TSLA', 'MSFT']\n",
    "colors = ['red', 'blue', 'black', 'orange']"
   ]
  },
  {
   "cell_type": "code",
   "execution_count": null,
   "id": "eb5628f2",
   "metadata": {},
   "outputs": [],
   "source": [
    "stocks_dict = {}\n",
    "\n",
    "for s in stocks:\n",
    "    all_files = glob.glob(f\"./Stocks/{s}/cleaned_data/*.*\")\n",
    "    \n",
    "    df = pd.read_csv(all_files[0])\n",
    "    df.DateTime = pd.to_datetime(df.DateTime, format='%Y-%m-%d %H:%M:%S:%f')\n",
    "    df['MidPrice'] = (df.Ask_Price_Level_1 + df.Bid_Price_Level_1)/2\n",
    "    \n",
    "    average_spread = np.mean(df.Ask_Price_Level_1 - df.Bid_Price_Level_1)\n",
    "    print(f\"Average spread for stock {s}: {round(average_spread, 2)}\")\n",
    "    \n",
    "    prices_volumes = df.iloc[:, 6:-1]\n",
    "    prices_ask_side = prices_volumes.iloc[:, 0::4]\n",
    "    prices_bid_side = prices_volumes.iloc[:, 2::4]\n",
    "\n",
    "    flatten_ask_diff = np.array(prices_ask_side.diff(axis=1).iloc[:, 1:]).flatten()\n",
    "    flatten_bid_diff = np.array(prices_bid_side.diff(axis=1).iloc[:, 1:]).flatten()\n",
    "\n",
    "    flatten_bid_ask = np.concatenate((flatten_ask_diff, flatten_bid_diff))\n",
    "\n",
    "    empirical_tick_size = np.mean(np.abs(flatten_bid_ask))\n",
    "    print(f\"Empirical tick size for stock {s}: {round(empirical_tick_size, 2)}\")\n",
    "    \n",
    "    stocks_dict[s] = df\n",
    "    print('###')"
   ]
  },
  {
   "cell_type": "code",
   "execution_count": null,
   "id": "ccceb3cb",
   "metadata": {},
   "outputs": [],
   "source": [
    "ohlc_dict = {}\n",
    "\n",
    "for s in stocks:\n",
    "    df = stocks_dict[s]\n",
    "    bin_size = '10s'\n",
    "    groups_by_secs = df.groupby(pd.Grouper(key='DateTime', freq=bin_size))\n",
    "    \n",
    "    group_ticks_len = []\n",
    "    open_mid = []\n",
    "    high_mid = []\n",
    "    low_mid = []\n",
    "    close_mid = []\n",
    "    number_missing_seconds = 0\n",
    "\n",
    "    for k in groups_by_secs:\n",
    "        if len(k[1] != 0):\n",
    "            group_ticks_len.append(len(k[1]))\n",
    "            open_mid.append(list(k[1].MidPrice)[0])\n",
    "            high_mid.append(max(list(k[1].MidPrice)))\n",
    "            low_mid.append(min(list(k[1].MidPrice)))\n",
    "            close_mid.append(list(k[1].MidPrice)[-1])\n",
    "        else:\n",
    "            number_missing_seconds += 1\n",
    "            \n",
    "    ohlc = pd.DataFrame({'Open':open_mid, 'High':high_mid, 'Low':low_mid, 'Close':close_mid})\n",
    "    ohlc_dict[s] = ohlc"
   ]
  },
  {
   "cell_type": "code",
   "execution_count": null,
   "id": "412e16a8",
   "metadata": {},
   "outputs": [],
   "source": [
    "rets_dict = {}\n",
    "\n",
    "for s in stocks:\n",
    "    ohlc = ohlc_dict[s]\n",
    "    log_rets = (np.log(ohlc.Close) - np.log(ohlc.Close.shift(1))).dropna()\n",
    "    rets_dict[s] = log_rets"
   ]
  },
  {
   "cell_type": "code",
   "execution_count": null,
   "id": "6a22a83c",
   "metadata": {},
   "outputs": [],
   "source": [
    "for s in stocks:\n",
    "    plt.clf()\n",
    "    plt.hist(rets_dict[s], bins=100)\n",
    "    plt.xlabel('Log return')\n",
    "    plt.ylabel('Frequency')\n",
    "    plt.title(f\"Log returns' distribution for stock {s}\")\n",
    "    plt.show()\n",
    "    print(f\"Empirical kurtosis of {s} stock's returns is equal to {round(compute_empirical_kurtosis(rets_dict[s]), 2)}.\")\n",
    "    print('##########################################')"
   ]
  },
  {
   "cell_type": "code",
   "execution_count": null,
   "id": "8b1b978c",
   "metadata": {},
   "outputs": [],
   "source": [
    "plt.clf()\n",
    "plt.figure(figsize=(25,10))\n",
    "for s, c in zip(stocks, colors):\n",
    "    ohlc = ohlc_dict[s]\n",
    "    log_rets = (np.log(ohlc.Close) - np.log(ohlc.Close.shift(1))).dropna()/daily_volatility(ohlc.Close)\n",
    "    \n",
    "    ccdf_rets_x, ccdf_rets_y = ccdf(log_rets)\n",
    "    ccdf_gaussian_x, ccdf_gaussian_y = gaussian_ccdf(log_rets)\n",
    "    \n",
    "    plt.semilogy(ccdf_rets_x, ccdf_rets_y, label=s, color=c)\n",
    "    plt.semilogy(ccdf_gaussian_x, ccdf_gaussian_y, ls='--', label=f\"Gaussian {s}\", color=c)\n",
    "    plt.xlabel('return')\n",
    "    plt.ylabel('ccdf')\n",
    "    plt.xlim(-10e-4, 10e-3)\n",
    "    plt.ylim(10e-4, 10e0)\n",
    "\n",
    "plt.legend(fontsize=14)\n",
    "plt.show()"
   ]
  },
  {
   "cell_type": "code",
   "execution_count": null,
   "id": "b7e00796",
   "metadata": {},
   "outputs": [],
   "source": []
  },
  {
   "cell_type": "code",
   "execution_count": null,
   "id": "b72e28f6",
   "metadata": {},
   "outputs": [],
   "source": []
  },
  {
   "cell_type": "code",
   "execution_count": null,
   "id": "4420c779",
   "metadata": {},
   "outputs": [],
   "source": []
  }
 ],
 "metadata": {
  "kernelspec": {
   "display_name": "Python 3 (ipykernel)",
   "language": "python",
   "name": "python3"
  },
  "language_info": {
   "codemirror_mode": {
    "name": "ipython",
    "version": 3
   },
   "file_extension": ".py",
   "mimetype": "text/x-python",
   "name": "python",
   "nbconvert_exporter": "python",
   "pygments_lexer": "ipython3",
   "version": "3.9.6"
  }
 },
 "nbformat": 4,
 "nbformat_minor": 5
}
